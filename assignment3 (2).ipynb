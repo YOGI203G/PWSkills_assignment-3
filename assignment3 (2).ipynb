{
 "cells": [
  {
   "cell_type": "code",
   "execution_count": 5,
   "id": "5063d9e6-a5e9-47c9-9f46-2f805802ed0f",
   "metadata": {},
   "outputs": [
    {
     "name": "stdout",
     "output_type": "stream",
     "text": [
      "0\n",
      "1\n",
      "2\n",
      "3\n",
      "4\n",
      "5\n",
      "6\n",
      "7\n",
      "8\n",
      "9\n"
     ]
    }
   ],
   "source": [
    "#QUS1\n",
    "\n",
    "#The for loop is used when we already know the number of iterations, \n",
    "#which means when we know how many times a statement has to be executed\n",
    "\n",
    "#use for loop\n",
    "\n",
    "for i in range(10):\n",
    "    print(i)\n",
    "    i=i+1\n",
    "    \n",
    "    \n",
    "\n",
    "\n"
   ]
  },
  {
   "cell_type": "code",
   "execution_count": 9,
   "id": "23c7d4a3-b340-4365-9ab5-bf563466b138",
   "metadata": {},
   "outputs": [
    {
     "name": "stdout",
     "output_type": "stream",
     "text": [
      "0\n",
      "1\n",
      "2\n",
      "3\n",
      "4\n",
      "5\n",
      "6\n",
      "7\n",
      "8\n",
      "9\n"
     ]
    }
   ],
   "source": [
    "#Keep on iterating until the condition is false . \n",
    "#This is known as an indefinite iteration.\n",
    "\n",
    "#use while loop\n",
    "\n",
    "i=0\n",
    "while i<10:\n",
    "    print(i)\n",
    "    i=i+1"
   ]
  },
  {
   "cell_type": "code",
   "execution_count": 1,
   "id": "00627c76-496e-48d8-bb49-a80cee7c9f3b",
   "metadata": {},
   "outputs": [
    {
     "name": "stdout",
     "output_type": "stream",
     "text": [
      "the sum of the first 10 natural number is 1\n",
      "the product of the first 10 natural number is: 1\n",
      "the sum of the first 10 natural number is 3\n",
      "the product of the first 10 natural number is: 2\n",
      "the sum of the first 10 natural number is 6\n",
      "the product of the first 10 natural number is: 6\n",
      "the sum of the first 10 natural number is 10\n",
      "the product of the first 10 natural number is: 24\n",
      "the sum of the first 10 natural number is 15\n",
      "the product of the first 10 natural number is: 120\n",
      "the sum of the first 10 natural number is 21\n",
      "the product of the first 10 natural number is: 720\n",
      "the sum of the first 10 natural number is 28\n",
      "the product of the first 10 natural number is: 5040\n",
      "the sum of the first 10 natural number is 36\n",
      "the product of the first 10 natural number is: 40320\n",
      "the sum of the first 10 natural number is 45\n",
      "the product of the first 10 natural number is: 362880\n",
      "the sum of the first 10 natural number is 55\n",
      "the product of the first 10 natural number is: 3628800\n"
     ]
    }
   ],
   "source": [
    "#QUS2\n",
    "\n",
    "#SUM AND PRODUCT OF 10 NATURAL NUMBER, USE FOR LOOP\n",
    "\n",
    "sum=0\n",
    "product=1\n",
    "\n",
    "for i in range(1,11):\n",
    "    sum=sum+i\n",
    "    product=product*i\n",
    "    \n",
    "    print(\"the sum of the first 10 natural number is\",sum)\n",
    "    print(\"the product of the first 10 natural number is:\",product)\n",
    "\n"
   ]
  },
  {
   "cell_type": "code",
   "execution_count": 3,
   "id": "945dc2e8-69da-48c6-9669-ed5f5dda662e",
   "metadata": {},
   "outputs": [
    {
     "name": "stdin",
     "output_type": "stream",
     "text": [
      "enter the units of electricity consumed in month 310\n"
     ]
    },
    {
     "name": "stdout",
     "output_type": "stream",
     "text": [
      "the total electricity bill is :Rs. 2250.0\n"
     ]
    }
   ],
   "source": [
    "#QUS3\n",
    "\n",
    "unit=int(input(\"enter the units of electricity consumed in month\"))\n",
    "\n",
    "\n",
    "if unit<=100:\n",
    "    \n",
    "    bill=unit*4.5\n",
    "    \n",
    "elif unit<=200:\n",
    "    \n",
    "    bill=100*4.5+(unit-100)*6\n",
    "    \n",
    "elif unit<=300:\n",
    "    \n",
    "    bill=100*4.5+100*6+(unit-200)*10\n",
    "    \n",
    "elif unit>=300:\n",
    "    \n",
    "    bill=100*4.5+100*6+100*10+(unit-300)*20\n",
    "    \n",
    "print(\"the total electricity bill is :Rs.\", bill)\n",
    "    \n",
    "\n",
    "\n",
    "\n"
   ]
  },
  {
   "cell_type": "code",
   "execution_count": 2,
   "id": "053b99d7-a141-4cfa-abe8-735d5f741986",
   "metadata": {},
   "outputs": [
    {
     "name": "stdout",
     "output_type": "stream",
     "text": [
      "the list of cube divisible by 4 or 5 is: [8, 64, 125, 216, 512, 1000, 1728, 2744, 3375, 4096, 5832, 8000, 10648, 13824, 15625, 17576, 21952, 27000, 32768, 39304, 42875, 46656, 54872, 64000, 74088, 85184, 91125, 97336, 110592, 125000, 140608, 157464, 166375, 175616, 195112, 216000, 238328, 262144, 274625, 287496, 314432, 343000, 373248, 405224, 421875, 438976, 474552, 512000, 551368, 592704, 614125, 636056, 681472, 729000, 778688, 830584, 857375, 884736, 941192, 1000000]\n"
     ]
    }
   ],
   "source": [
    "#QUS4\n",
    "\n",
    "\n",
    "num=[]\n",
    "cube_divisible=[]\n",
    "\n",
    "\n",
    "for i in range(1,101):\n",
    "    num.append(i)\n",
    "    cube=i**3\n",
    "    \n",
    "    if cube%4==0 or cube%5==0:\n",
    "        \n",
    "        \n",
    "        cube_divisible.append(cube)\n",
    "    i=i+1\n",
    "    \n",
    "print(\"the list of cube divisible by 4 or 5 is:\",cube_divisible)\n",
    "        \n",
    "    \n",
    "    \n"
   ]
  },
  {
   "cell_type": "code",
   "execution_count": 1,
   "id": "32b1d989-1767-4322-bd88-06318cfaf6bc",
   "metadata": {},
   "outputs": [
    {
     "name": "stdout",
     "output_type": "stream",
     "text": [
      "the list of cube divisible by 4 or 5 is: [8, 64, 125, 216, 512, 1000, 1728, 2744, 3375, 4096, 5832, 8000, 10648, 13824, 15625, 17576, 21952, 27000, 32768, 39304, 42875, 46656, 54872, 64000, 74088, 85184, 91125, 97336, 110592, 125000, 140608, 157464, 166375, 175616, 195112, 216000, 238328, 262144, 274625, 287496, 314432, 343000, 373248, 405224, 421875, 438976, 474552, 512000, 551368, 592704, 614125, 636056, 681472, 729000, 778688, 830584, 857375, 884736, 941192, 1000000]\n"
     ]
    }
   ],
   "source": [
    "\n",
    "num=[]\n",
    "cube_divisible=[]\n",
    "\n",
    "i=1\n",
    "while i<=100:\n",
    "    \n",
    "    num.append(i)\n",
    "    \n",
    "    cube=i**3\n",
    "\n",
    "    \n",
    "    if cube%4==0 or cube%5==0:\n",
    "        cube_divisible.append(cube)\n",
    "        \n",
    "    i=i+1\n",
    "    \n",
    "print(\"the list of cube divisible by 4 or 5 is:\",cube_divisible)\n",
    "    "
   ]
  },
  {
   "cell_type": "code",
   "execution_count": 9,
   "id": "86b97b47-8df9-468f-a3af-4564f54dedc8",
   "metadata": {},
   "outputs": [
    {
     "name": "stdout",
     "output_type": "stream",
     "text": [
      "the number of vowels in string is: 12\n"
     ]
    }
   ],
   "source": [
    "#QUS5\n",
    "\n",
    "string = \"i want to become a data scientist\"\n",
    "vowels = \"aeiou\"\n",
    "\n",
    "count=0\n",
    "\n",
    "for char in string:\n",
    "    if char in vowels:\n",
    "        count=count+1\n",
    "        \n",
    "print(\"the number of vowels in string is:\", count)\n",
    "    "
   ]
  }
 ],
 "metadata": {
  "kernelspec": {
   "display_name": "Python 3 (ipykernel)",
   "language": "python",
   "name": "python3"
  },
  "language_info": {
   "codemirror_mode": {
    "name": "ipython",
    "version": 3
   },
   "file_extension": ".py",
   "mimetype": "text/x-python",
   "name": "python",
   "nbconvert_exporter": "python",
   "pygments_lexer": "ipython3",
   "version": "3.10.8"
  }
 },
 "nbformat": 4,
 "nbformat_minor": 5
}
